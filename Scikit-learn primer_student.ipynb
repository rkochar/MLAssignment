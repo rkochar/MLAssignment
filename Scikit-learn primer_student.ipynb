{
 "cells": [
  {
   "cell_type": "markdown",
   "metadata": {},
   "source": [
    "# Optional: Scikit-learn primer.\n",
    "In this additional assignment, you will learn to use the scikit-learn library. It is highly recommended to go through this notebook before starting with the final assignment."
   ]
  },
  {
   "cell_type": "markdown",
   "metadata": {},
   "source": [
    "$\\newcommand{\\q}[1]{\\rightarrow \\textbf{Question #1}}$\n",
    "$\\newcommand{\\ex}[1]{\\rightarrow \\textbf{Exercise #1}}$"
   ]
  },
  {
   "cell_type": "markdown",
   "metadata": {},
   "source": [
    "## Introduction\n",
    "All algorithms, both learning and pre-processing, in scikit-learn have been implemented with the same `fit`, `predict` and `transform` API. As soon as you have learned this API you can use any algorithm without having to implement it on your own. For a given learning problem, you can then apply all those algortihms in the same way. The API also hides all the complex optimization choices that have to be made. You can control these by changing the hyper-parameters. The effects of these choices have been well documented in the API documentation and the provided tutorials of scikit-learn.  \n",
    "\n"
   ]
  },
  {
   "cell_type": "markdown",
   "metadata": {},
   "source": [
    "## Dataset"
   ]
  },
  {
   "cell_type": "markdown",
   "metadata": {},
   "source": [
    "In this assignment, we will use the Iris dataset to keep things simple."
   ]
  },
  {
   "cell_type": "code",
   "execution_count": 1,
   "metadata": {},
   "outputs": [],
   "source": [
    "from sklearn.datasets import load_iris\n",
    "X, y = load_iris(return_X_y=True)"
   ]
  },
  {
   "cell_type": "markdown",
   "metadata": {},
   "source": [
    "## Using classifiers\n",
    "Using a classifier in scikit-learn consist of 3 steps:\n",
    "1. Initialize the model. During this step, you can already give it some default hyper-parameters.\n",
    "2. Fitting the model on the training data.\n",
    "3. Making predictions and/or evaluating the model."
   ]
  },
  {
   "cell_type": "markdown",
   "metadata": {},
   "source": [
    "### Create\n",
    "Creating models is very easy in scikit-learn. All you have to do is create a new instance of the model's class.\n",
    "\n",
    "$ \\ex{1} $ Extent the list of models with the`SVC` and `LogisticRegression` algorithms. Give the SVM a `poly` kernel. Also, give both algorithms a regularization constant `C=0.5`."
   ]
  },
  {
   "cell_type": "code",
   "execution_count": 2,
   "metadata": {},
   "outputs": [],
   "source": [
    "from sklearn.naive_bayes import GaussianNB\n",
    "from sklearn.svm import SVC\n",
    "from sklearn.neighbors import KNeighborsClassifier\n",
    "from sklearn.linear_model import LogisticRegression\n",
    "from sklearn.tree import DecisionTreeClassifier\n",
    "from sklearn.dummy import DummyClassifier\n",
    "\n",
    "models = {\n",
    "    \"GaussianNB\": GaussianNB(),\n",
    "    \"DummyClassifier\": DummyClassifier(strategy=\"most_frequent\"),\n",
    "    \"DecisionTreeClassifier\": DecisionTreeClassifier(max_depth=None, min_samples_leaf=2),\n",
    "    \"KNeighborsClassifier\": KNeighborsClassifier(n_neighbors=3, weights=\"distance\"),\n",
    "    # START ANSWER   \n",
    "    \"SVM\": SVC(C=10, kernel=\"poly\"),\n",
    "    \"LogisticRegression\": LogisticRegression(penalty=\"l2\", C=1, max_iter=1000),\n",
    "    # END ANSWER\n",
    "}\n",
    "\n",
    "assert \"GaussianNB\" in models and isinstance(models[\"GaussianNB\"], GaussianNB), \"There is no GaussianNB in models\"\n",
    "assert \"DecisionTreeClassifier\" in models and isinstance(models[\"DecisionTreeClassifier\"], DecisionTreeClassifier), \"There is no DecisionTreeClassifier in models\"\n",
    "assert \"KNeighborsClassifier\" in models and isinstance(models[\"KNeighborsClassifier\"], KNeighborsClassifier), \"There is no KNeighborsClassifier in models\"\n",
    "assert \"SVM\" in models and isinstance(models[\"SVM\"], SVC), \"There is no SVC in models\"\n",
    "assert \"LogisticRegression\" in models and isinstance(models[\"LogisticRegression\"], LogisticRegression), \"There is no LogisticRegression in models\""
   ]
  },
  {
   "cell_type": "markdown",
   "metadata": {},
   "source": [
    "### Fit\n",
    "$ \\ex{2} $ Fit each of your models on the entire training set by calling the `.fit` method of the model."
   ]
  },
  {
   "cell_type": "code",
   "execution_count": 3,
   "metadata": {},
   "outputs": [],
   "source": [
    "for name, model in models.items():\n",
    "    # START ANSWER  \n",
    "    model.fit(X, y)\n",
    "    # END ANSWER"
   ]
  },
  {
   "cell_type": "code",
   "execution_count": 4,
   "metadata": {},
   "outputs": [],
   "source": [
    "from sklearn.utils.validation import check_is_fitted\n",
    "\n",
    "for model in models.values():\n",
    "    check_is_fitted(model)"
   ]
  },
  {
   "cell_type": "markdown",
   "metadata": {},
   "source": [
    "### Evaluate\n",
    "The `sklearn.metrics` module has lots of metrics that can evaluate a model's predictions. Here is an example of how to calculate a model's F1 and accuracy score."
   ]
  },
  {
   "cell_type": "code",
   "execution_count": 20,
   "metadata": {},
   "outputs": [
    {
     "name": "stdout",
     "output_type": "stream",
     "text": [
      "GaussianNB\n",
      "- accuracy_score 0.9533333333333334\n",
      "- f1_score 0.9533380004667132\n",
      "DummyClassifier\n",
      "- accuracy_score 0.3333333333333333\n",
      "- f1_score 0.5\n",
      "DecisionTreeClassifier\n",
      "- accuracy_score 0.9733333333333334\n",
      "- f1_score 0.973344004268374\n",
      "KNeighborsClassifier\n",
      "- accuracy_score 1.0\n",
      "- f1_score 1.0\n",
      "SVM\n",
      "- accuracy_score 0.9866666666666667\n",
      "- f1_score 0.9866720021341869\n",
      "LogisticRegression\n",
      "- accuracy_score 0.9733333333333334\n",
      "- f1_score 0.973344004268374\n"
     ]
    }
   ],
   "source": [
    "from sklearn.metrics import f1_score, accuracy_score\n",
    "\n",
    "for name, model in models.items():\n",
    "    prediction = model.predict(X)\n",
    "    f1_score_value = f1_score(prediction, y, average='weighted')\n",
    "    accuracy = accuracy_score(prediction, y)\n",
    "    print(name)\n",
    "    print(\"- accuracy_score\", accuracy)\n",
    "    print(\"- f1_score\", f1_score_value)"
   ]
  },
  {
   "cell_type": "markdown",
   "metadata": {},
   "source": [
    "## Data splitting\n",
    "Models usually achieve a high evaluation score on the training set. However, this doesn't say anything about how well it generalizes to unseen data. So we usually evaluate models using either a test/validation split or k-fold validation. Scikit-learn also makes our life easier here by implementing both functions for us."
   ]
  },
  {
   "cell_type": "markdown",
   "metadata": {},
   "source": [
    "### Test/validation split\n",
    "We can split datasets into training and test sets using the `train_test_split` function. The `test_size` parameter indicate the percentage of data that should go to the test set. The `stratify`  parameter indicate that the split should take the distribution of target labels `y` into account during the split. This parameter ensures that both the train and test have the same distribution of target variables.\n",
    "\n",
    "$ \\ex{3} $ The data has already been split into a training and a test set. Fit the model using the training set and evaluate them using the test set.\n",
    "\n",
    "The result on the test set should roughly be equal to:\n",
    "\n",
    "|                  Model |    F1 | Accuracy |\n",
    "|-----------------------:|------:|---------:|\n",
    "|             GaussianNB |  0.86 |     0.86 |\n",
    "| DummyClassifier        | 0.33  | 0.5      |\n",
    "| DecisionTreeClassifier | 0.933 |    0.934 |\n",
    "| KNeighborsClassifier   | 1     | 1        |\n",
    "| SVM                    | 1     | 1        |\n",
    "| LogisticRegression     | 0.933 | 0.934    |"
   ]
  },
  {
   "cell_type": "code",
   "execution_count": 22,
   "metadata": {},
   "outputs": [
    {
     "name": "stdout",
     "output_type": "stream",
     "text": [
      "GaussianNB  F1:  0.8666666666666667  Accuracy:  0.8666666666666667\n",
      "DummyClassifier  F1:  0.5  Accuracy:  0.3333333333333333\n",
      "DecisionTreeClassifier  F1:  0.9340067340067341  Accuracy:  0.9333333333333333\n",
      "KNeighborsClassifier  F1:  1.0  Accuracy:  1.0\n",
      "SVM  F1:  1.0  Accuracy:  1.0\n",
      "LogisticRegression  F1:  0.9340067340067341  Accuracy:  0.9333333333333333\n"
     ]
    }
   ],
   "source": [
    "from sklearn.model_selection import train_test_split\n",
    "\n",
    "X, y = load_iris(return_X_y=True)\n",
    "X_train, X_test, y_train, y_test = train_test_split(X, y, test_size=0.1, random_state=42, shuffle=True, stratify=y)\n",
    "\n",
    "# START ANSWER \n",
    "for name, model in models.items():\n",
    "    model.fit(X_train, y_train)\n",
    "    pred = model.predict(X_test)\n",
    "    f = f1_score(pred, y_test, average='weighted')\n",
    "    acc = accuracy_score(pred, y_test)\n",
    "    print(name, \" F1: \", f, \" Accuracy: \", acc)\n",
    "# END ANSWER "
   ]
  },
  {
   "cell_type": "markdown",
   "metadata": {},
   "source": [
    "## K-fold validation\n",
    "Setting up k-fold validation is a bit more work but we can do it as follows:"
   ]
  },
  {
   "cell_type": "code",
   "execution_count": 8,
   "metadata": {},
   "outputs": [],
   "source": [
    "from sklearn.model_selection import KFold\n",
    "from sklearn.model_selection import cross_validate\n",
    "\n",
    "def k_fold_fit_and_evaluate(X, y, model, scoring_method, n_splits=5):\n",
    "    # define evaluation procedure\n",
    "    cv = KFold(n_splits=n_splits, random_state=42, shuffle=True)\n",
    "    # evaluate model\n",
    "    scores = cross_validate(model, X, y, scoring=scoring_method, cv=cv, n_jobs=-1)\n",
    "    \n",
    "       \n",
    "    return scores[\"test_score\"]"
   ]
  },
  {
   "cell_type": "markdown",
   "metadata": {},
   "source": [
    "Note: `cross_validate` expects a `scoring_method`. We can create a `scoring_method` using the `make_scorer` function from scikit-learn.\n",
    "\n",
    "$ \\ex{4} $ Use the example below to calculate the mean and std for both the F1 and the accuracy.\n",
    "\n",
    "The result using k-fold validation should roughly be equal to:\n",
    "\n",
    "\n",
    "|                  Model | mean F1 | std F1 | mean Accuracy | std Accuracy |\n",
    "|-----------------------:|--------:|--------|--------------:|--------------|\n",
    "|             GaussianNB |   0.959 | 0.0249 |        0.9599 | 0.024        |\n",
    "| DummyClassifier        | 0.107   | 0.0187 | 0.1079        | 0.0186       |\n",
    "| DecisionTreeClassifier |   0.946 | 0.0338 |       0.94655 | 0.0338       |\n",
    "| KNeighborsClassifier   | 0.966   | 0.0214 | 0.9663        | 0.02144      |\n",
    "| SVM                    | 0.959   | 0.0251 | 0.9596        | 0.02516      |\n",
    "| LogisticRegression     | 0.973   | 0.0249 | 0.9732        | 0.024955     |"
   ]
  },
  {
   "cell_type": "code",
   "execution_count": 23,
   "metadata": {},
   "outputs": [
    {
     "name": "stdout",
     "output_type": "stream",
     "text": [
      "GaussianNB  | mean accuracy:  0.9629234305808094  | std accuracy:  0.00015740809211831994\n",
      "DummyClassifier  | mean accuracy:  0.12452140452140455  | std accuracy:  0.021856661856661862\n",
      "DecisionTreeClassifier  | mean accuracy:  0.9467035109140373  | std accuracy:  0.051951899191208156\n",
      "KNeighborsClassifier  | mean accuracy:  0.9554131425149658  | std accuracy:  0.01500162276153724\n",
      "SVM  | mean accuracy:  0.9628725317287408  | std accuracy:  0.02358760709406426\n",
      "LogisticRegression  | mean accuracy:  0.9629234305808094  | std accuracy:  0.00015740809211831994\n"
     ]
    }
   ],
   "source": [
    "from sklearn.metrics import make_scorer\n",
    "import numpy as np\n",
    "n_splits = 5\n",
    "\n",
    "\n",
    "scoring_method = make_scorer(lambda prediction, true_target: f1_score(prediction, true_target, average=\"weighted\"))\n",
    "# START ANSWER \n",
    "score = []\n",
    "for name, model in models.items():\n",
    "    tmp_acc = k_fold_fit_and_evaluate(X_train, y_train, model, scoring_method)\n",
    "    m_acc = np.mean(tmp_acc)\n",
    "    std_acc = np.std(tmp_acc)\n",
    "    print(name, \" | mean accuracy: \", m_acc, \" | std accuracy: \", std_acc)\n",
    "    score.append(tmp)\n",
    "    \n",
    "#    tmp_f = f1_score(pred, y_test, average='weighted')\n",
    "#     #np.mean(model, scoring_method)\n",
    "#     cv = KFold(n_splits=n_splits, random_state=42, shuffle=True)\n",
    "#     d = cross_validate(model, X, y, scoring=scoring_method, cv=cv, n_jobs=-1)\n",
    "#     print(d)\n",
    "#     print(name, \": \", sco/n_splits)\n",
    "# END ANSWER  \n",
    "# print(score)\n",
    "\n",
    "for name, model in models.items():\n",
    "    metrics = k_fold_fit_and_evaluate(X, y, model, scoring_method, n_splits=n_splits) \n",
    "    # START ANSWER \n",
    "    # END ANSWER "
   ]
  },
  {
   "cell_type": "markdown",
   "metadata": {},
   "source": [
    "## Grid search\n",
    "Scikit-learn also makes it easier to tune hyper-parameters using `GridSearchCV`.\n",
    "\n",
    "$ \\ex{5} $ Extend the `model_parameters` dict by specifying a grid search for the `KNeighborsClassifier`, `SVM` and the `LogisticRegression` models."
   ]
  },
  {
   "cell_type": "code",
   "execution_count": 49,
   "metadata": {},
   "outputs": [
    {
     "name": "stdout",
     "output_type": "stream",
     "text": [
      "GaussianNB\n",
      "- best_score = 0.9599161225248183\n",
      "best paramters:\n",
      "DummyClassifier\n",
      "- best_score = 0.10791990370937739\n",
      "best paramters:\n",
      "DecisionTreeClassifier\n",
      "- best_score = 0.9465598893859765\n",
      "best paramters:\n",
      "- max_depth None\n",
      "- random_state 42\n",
      "KNeighborsClassifier\n",
      "- best_score = 0.9663617061759476\n",
      "best paramters:\n",
      "- algorithm ball_tree\n",
      "- leaf_size 2\n",
      "- p 1\n",
      "SVM\n",
      "- best_score = 0.9799785345717235\n",
      "best paramters:\n",
      "- C 10\n",
      "- gamma 0.05\n",
      "- kernel rbf\n",
      "LogisticRegression\n",
      "- best_score = 0.9732912280701754\n",
      "best paramters:\n"
     ]
    }
   ],
   "source": [
    "from sklearn.model_selection import GridSearchCV\n",
    "\n",
    "random_state = 42\n",
    "n_splits = 5\n",
    "scoring_method = make_scorer(lambda prediction, true_target: f1_score(prediction, true_target, average=\"weighted\"))\n",
    "\n",
    "model_parameters = {\n",
    "    \"GaussianNB\": {\n",
    "    \n",
    "    },\n",
    "    \"DummyClassifier\": {\n",
    "        \n",
    "    },\n",
    "    \"DecisionTreeClassifier\": {\n",
    "        'random_state': [random_state],\n",
    "        'max_depth': [None, 2, 5, 10]\n",
    "    },\n",
    "    # START ANSWER\n",
    "    'KNeighborsClassifier': {\n",
    "        'algorithm': ['ball_tree', 'kd_tree', 'brute', 'auto'],\n",
    "        'leaf_size': [2, 11, 5, 9, 25, 3, 42],\n",
    "        'p': [0.9, 1, 2, 3, 4, 2.5]\n",
    "    },\n",
    "    'SVM': {\n",
    "        'C': [0.1, 1, 10, 100, 1000],\n",
    "        'gamma': [1, 0.5, 0.1, 0.05, 0.01, 0.001, 0.0005, 0.0001, 'scale'],\n",
    "        'kernel': ['linear', 'sigmoid', 'poly', 'rbf']\n",
    "    },\n",
    "    'LogisticRegression':{\n",
    "        \n",
    "    }\n",
    "    # END ANSWER\n",
    "}\n",
    "\n",
    "\n",
    "for model_name, parameters in model_parameters.items():\n",
    "    model = models[model_name]\n",
    "    \n",
    "    cv = KFold(n_splits=n_splits, random_state=random_state, shuffle=True)\n",
    "    grid_search = GridSearchCV(model, parameters, cv=cv, n_jobs=-1, verbose=False, scoring=scoring_method).fit(X, y)\n",
    "    \n",
    "    best_model = grid_search.best_estimator_\n",
    "    best_score = grid_search.best_score_\n",
    "    best_params = grid_search.best_params_\n",
    "    \n",
    "    print(model_name)\n",
    "    print(\"- best_score =\", best_score)\n",
    "    print(\"best paramters:\")\n",
    "    for k,v in best_params.items():\n",
    "        print(\"-\", k, v)\n"
   ]
  },
  {
   "cell_type": "markdown",
   "metadata": {},
   "source": [
    "## Using Transformers\n",
    "The transformers have a similar but slightly different API than the models. Transformers still have the `fit` method. The fit method is, for example, use in the `StandardScaler` to find the `mean` and `std` values. However, the `predict` method is replaced with the `transform` method. Scikit-learn did this to make it clear to the users that this is not a model but a feature transformer."
   ]
  },
  {
   "cell_type": "code",
   "execution_count": 50,
   "metadata": {},
   "outputs": [
    {
     "data": {
      "text/plain": [
       "(array([5.82962963, 3.05703704, 3.75111111, 1.20518519]),\n",
       " array([0.82210877, 0.44297659, 1.74999965, 0.763842  ]))"
      ]
     },
     "execution_count": 50,
     "metadata": {},
     "output_type": "execute_result"
    }
   ],
   "source": [
    "from sklearn import preprocessing\n",
    "\n",
    "scaler = preprocessing.StandardScaler().fit(X_train)\n",
    "\n",
    "scaler.mean_, scaler.scale_"
   ]
  },
  {
   "cell_type": "markdown",
   "metadata": {},
   "source": [
    "After fitting the transformer, you can call the `transform` method, and it will transform the input features based on the parameters it found during the last `fit` call."
   ]
  },
  {
   "cell_type": "code",
   "execution_count": 51,
   "metadata": {},
   "outputs": [
    {
     "name": "stdout",
     "output_type": "stream",
     "text": [
      "X_train\n",
      "mean 3.460740740740741\n",
      "std 1.9662465199534571\n",
      "\n",
      "X_train_transformed\n",
      "mean 6.579099405186112e-17\n",
      "std 1.0\n"
     ]
    }
   ],
   "source": [
    "X_train_transformed = scaler.transform(X_train)\n",
    "print(\"X_train\")\n",
    "print(\"mean\", X_train.mean())\n",
    "print(\"std\", X_train.std())\n",
    "print()\n",
    "print(\"X_train_transformed\")\n",
    "print(\"mean\", X_train_transformed.mean())\n",
    "print(\"std\", X_train_transformed.std())"
   ]
  },
  {
   "cell_type": "markdown",
   "metadata": {},
   "source": [
    "$ \\ex{6} $ First, transform the dataset using the `Normalizer` transformer. The fit and evaluate each model using the transformed features."
   ]
  },
  {
   "cell_type": "code",
   "execution_count": 71,
   "metadata": {},
   "outputs": [
    {
     "name": "stdout",
     "output_type": "stream",
     "text": [
      "GaussianNB :  1.0\n",
      "DummyClassifier :  0.3333333333333333\n",
      "DecisionTreeClassifier :  0.8\n",
      "KNeighborsClassifier :  1.0\n",
      "SVM :  1.0\n",
      "LogisticRegression :  0.9333333333333333\n"
     ]
    }
   ],
   "source": [
    "X, y = load_iris(return_X_y=True)\n",
    "X_train, X_test, y_train, y_test = train_test_split(X, y, test_size=0.1, random_state=42, shuffle=True, stratify=y)\n",
    "\n",
    "scaler = preprocessing.Normalizer()\n",
    "\n",
    "# START ANSWER\n",
    "x_tr = scaler.transform(X_train)\n",
    "x_te = scaler.transform(X_test)\n",
    "\n",
    "for name, model in models.items():\n",
    "    model.fit(x_tr, y_train)\n",
    "    pred = model.predict(x_te)\n",
    "    acc = accuracy_score(pred, y_test)\n",
    "    print(name, \": \", acc)\n",
    "# END ANSWER "
   ]
  },
  {
   "cell_type": "code",
   "execution_count": null,
   "metadata": {},
   "outputs": [],
   "source": []
  }
 ],
 "metadata": {
  "kernelspec": {
   "display_name": "Python 3",
   "language": "python",
   "name": "python3"
  },
  "language_info": {
   "codemirror_mode": {
    "name": "ipython",
    "version": 3
   },
   "file_extension": ".py",
   "mimetype": "text/x-python",
   "name": "python",
   "nbconvert_exporter": "python",
   "pygments_lexer": "ipython3",
   "version": "3.8.6"
  }
 },
 "nbformat": 4,
 "nbformat_minor": 4
}
