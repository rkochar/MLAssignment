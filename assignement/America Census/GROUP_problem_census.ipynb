{
 "cells": [
  {
   "cell_type": "markdown",
   "metadata": {},
   "source": [
    "# American Census"
   ]
  },
  {
   "cell_type": "code",
   "execution_count": 21,
   "metadata": {},
   "outputs": [],
   "source": [
    "import numpy as np\n",
    "import pandas as pd\n",
    "\n",
    "from sklearn.naive_bayes import GaussianNB\n",
    "from sklearn.dummy import DummyClassifier\n",
    "from sklearn.tree import DecisionTreeClassifier\n",
    "from sklearn.svm import SVC\n",
    "from sklearn.neighbors import KNeighborsClassifier\n",
    "from sklearn.linear_model import LogisticRegression\n",
    "from sklearn.model_selection import KFold\n",
    "from sklearn.metrics import make_scorer\n",
    "from sklearn.model_selection import cross_validate\n",
    "\n",
    "import matplotlib.pyplot as plt"
   ]
  },
  {
   "cell_type": "markdown",
   "metadata": {},
   "source": [
    "## Global config"
   ]
  },
  {
   "cell_type": "code",
   "execution_count": 2,
   "metadata": {},
   "outputs": [],
   "source": [
    "# Data config\n",
    "path_to_csv = \"adult.csv\"\n"
   ]
  },
  {
   "cell_type": "markdown",
   "metadata": {},
   "source": [
    "## Load data"
   ]
  },
  {
   "cell_type": "code",
   "execution_count": 3,
   "metadata": {},
   "outputs": [],
   "source": [
    "X_train_raw = pd.read_csv(\"X_train.csv\")\n",
    "y_train_raw = pd.read_csv(\"y_train.csv\")\n",
    "\n",
    "X_unknown_raw = pd.read_csv(\"X_test.csv\")\n"
   ]
  },
  {
   "cell_type": "markdown",
   "metadata": {},
   "source": [
    "## Helpers"
   ]
  },
  {
   "cell_type": "code",
   "execution_count": 4,
   "metadata": {},
   "outputs": [],
   "source": [
    "# TODO"
   ]
  },
  {
   "cell_type": "markdown",
   "metadata": {},
   "source": [
    "## Data exploration"
   ]
  },
  {
   "cell_type": "markdown",
   "metadata": {},
   "source": [
    "### Question 1"
   ]
  },
  {
   "cell_type": "code",
   "execution_count": 5,
   "metadata": {},
   "outputs": [],
   "source": [
    "# TODO"
   ]
  },
  {
   "cell_type": "markdown",
   "metadata": {},
   "source": [
    "### Question 2"
   ]
  },
  {
   "cell_type": "code",
   "execution_count": 6,
   "metadata": {},
   "outputs": [],
   "source": [
    "# TODO"
   ]
  },
  {
   "cell_type": "markdown",
   "metadata": {},
   "source": [
    "## Data exploration"
   ]
  },
  {
   "cell_type": "markdown",
   "metadata": {},
   "source": [
    "### Question 1"
   ]
  },
  {
   "cell_type": "code",
   "execution_count": 7,
   "metadata": {},
   "outputs": [],
   "source": [
    "# Cleanup data\n",
    "from sklearn.impute import SimpleImputer\n",
    "from math import isnan\n",
    "\n",
    "imp = SimpleImputer(missing_values=np.nan, strategy=\"most_frequent\")\n",
    "\n",
    "imp.fit(X_train_raw)\n",
    "X_train_imputed = imp.transform(X_train_raw)\n",
    "\n",
    "imp.fit(X_unknown_raw)\n",
    "X_unknown_imputed = imp.transform(X_unknown_raw)"
   ]
  },
  {
   "cell_type": "markdown",
   "metadata": {},
   "source": [
    "### Question 2"
   ]
  },
  {
   "cell_type": "code",
   "execution_count": 8,
   "metadata": {},
   "outputs": [],
   "source": [
    "from sklearn.preprocessing import OrdinalEncoder\n",
    "\n",
    "X_train_enc = OrdinalEncoder().fit(X_train_imputed).transform(X_train_imputed)\n",
    "X_unknown_enc = OrdinalEncoder().fit(X_unknown_imputed).transform(X_unknown_imputed)"
   ]
  },
  {
   "cell_type": "markdown",
   "metadata": {},
   "source": [
    "### Question 3"
   ]
  },
  {
   "cell_type": "code",
   "execution_count": 31,
   "metadata": {},
   "outputs": [],
   "source": [
    "from sklearn.preprocessing import StandardScaler\n",
    "\n",
    "X_train_processed = StandardScaler().fit(X_train_enc).transform(X_train_enc)\n",
    "X_unknown_processed = StandardScaler().fit(X_unknown_enc).transform(X_unknown_enc)"
   ]
  },
  {
   "cell_type": "markdown",
   "metadata": {},
   "source": [
    "## Experiments"
   ]
  },
  {
   "cell_type": "markdown",
   "metadata": {},
   "source": [
    "### Question 1"
   ]
  },
  {
   "cell_type": "code",
   "execution_count": 32,
   "metadata": {},
   "outputs": [],
   "source": [
    "from sklearn.metrics import f1_score, accuracy_score\n",
    "from sklearn.model_selection import train_test_split\n",
    "\n",
    "models = {\n",
    "    \"GaussianNB\": GaussianNB(),\n",
    "    \"DecisionTreeClassifier\": DecisionTreeClassifier(max_depth=None, min_samples_leaf=2, random_state=42),\n",
    "    \"KNeighborsClassifier\": KNeighborsClassifier(n_neighbors=3, weights=\"distance\"),\n",
    "    \"SVM\": SVC(C=10, kernel=\"poly\", random_state=42),\n",
    "    \"LogisticRegression\": LogisticRegression(C=10, penalty=\"none\", random_state=42),\n",
    "}\n",
    "\n",
    "# Split\n",
    "X_train, X_test, y_train, y_test = train_test_split(X_train_processed, y_train_raw, test_size=0.1, random_state=42, shuffle=True, stratify=y_train_raw)"
   ]
  },
  {
   "cell_type": "markdown",
   "metadata": {},
   "source": [
    "### Question 2"
   ]
  },
  {
   "cell_type": "code",
   "execution_count": 39,
   "metadata": {},
   "outputs": [
    {
     "name": "stdout",
     "output_type": "stream",
     "text": [
      "Name                      F1 mean    F1 stddev\n",
      "----------------------  ---------  -----------\n",
      "GaussianNB               0.785786   0.00506149\n",
      "DecisionTreeClassifier   0.786363   0.0142345\n",
      "KNeighborsClassifier     0.795113   0.00862185\n",
      "SVM                      0.80417    0.00781978\n",
      "LogisticRegression       0.782246   0.00674239\n"
     ]
    },
    {
     "data": {
      "image/png": "[encoded data removed]",
      "text/plain": [
       "<Figure size 432x288 with 1 Axes>"
      ]
     },
     "metadata": {
      "needs_background": "light"
     },
     "output_type": "display_data"
    },
    {
     "data": {
      "image/png": "[encoded data removed]",
      "text/plain": [
       "<Figure size 432x288 with 1 Axes>"
      ]
     },
     "metadata": {
      "needs_background": "light"
     },
     "output_type": "display_data"
    }
   ],
   "source": [
    "def k_fold_fit_and_evaluate(X, y, model, scoring_method, n_splits=5):\n",
    "    # define evaluation procedure\n",
    "    cv = KFold(n_splits=n_splits, random_state=42, shuffle=True)\n",
    "    # evaluate model\n",
    "    scores = cross_validate(model, X, y, scoring=scoring_method, cv=cv, n_jobs=-1)\n",
    "    \n",
    "       \n",
    "    return scores[\"test_score\"]\n",
    "\n",
    "scoring_method = make_scorer(lambda prediction, true_target: f1_score(prediction, true_target, average=\"weighted\"))\n",
    "\n",
    "def kfold_fit_eval(X_train, y_train):\n",
    "    table2 = []\n",
    "    for name, model in models.items():\n",
    "        kfold_scores = k_fold_fit_and_evaluate(X_train, y_train, model, scoring_method)\n",
    "        m_acc = np.mean(kfold_scores)\n",
    "        std_acc = np.std(kfold_scores)\n",
    "        table2.append([name, m_acc, std_acc])\n",
    "    return table2\n",
    "\n",
    "kfold_eval = kfold_fit_eval(X_train, y_train.values.ravel())\n",
    "from tabulate import tabulate\n",
    "print(tabulate(kfold_eval, headers=['Name', 'F1 mean', 'F1 stddev']))\n",
    "\n",
    "%matplotlib inline\n",
    "df = pd.DataFrame(kfold_eval, columns=[\"Algorithm\", \"F1_mean\", \"F1_stddev\"])\n",
    "axes_mean = df.plot(x=\"Algorithm\", y=[\"F1_mean\"], kind=\"bar\")\n",
    "axes_mean.set_ylim(0.75, 0.85)\n",
    "axes_stddev = df.plot(x=\"Algorithm\", y=[\"F1_stddev\"], kind=\"bar\")"
   ]
  },
  {
   "cell_type": "markdown",
   "metadata": {},
   "source": [
    "### Question 3"
   ]
  },
  {
   "cell_type": "code",
   "execution_count": 46,
   "metadata": {
    "scrolled": true
   },
   "outputs": [
    {
     "name": "stdout",
     "output_type": "stream",
     "text": [
      "\n",
      "GaussianNB\n",
      "- best_score = 0.7855978202920506\n",
      "best parameters:\n",
      "\n",
      "DecisionTreeClassifier\n",
      "- best_score = 0.8161508324355335\n",
      "best parameters:\n",
      "- max_depth 10\n",
      "- min_samples_leaf 2\n",
      "- random_state 42\n",
      "\n",
      "KNeighborsClassifier\n",
      "- best_score = 0.8099538870319597\n",
      "best parameters:\n",
      "- n_neighbors 10\n",
      "- weights distance\n",
      "\n",
      "LogisticRegression\n",
      "- best_score = 0.7827724970161551\n",
      "best parameters:\n",
      "- C 1\n",
      "- penalty l2\n",
      "- random_state 42\n",
      "\n",
      "SVM\n",
      "- best_score = 0.8160650905751871\n",
      "best parameters:\n",
      "- C 10\n",
      "- kernel rbf\n",
      "- random_state 42\n"
     ]
    }
   ],
   "source": [
    "from sklearn.model_selection import GridSearchCV\n",
    "\n",
    "random_state = 42\n",
    "n_splits = 5\n",
    "scoring_method = make_scorer(lambda prediction, true_target: f1_score(prediction, true_target, average=\"weighted\"))\n",
    "\n",
    "model_parameters = {\n",
    "    \"GaussianNB\": {},\n",
    "    \"DecisionTreeClassifier\": {\n",
    "        'max_depth': [None, 2, 5, 10],\n",
    "        'min_samples_leaf': [2],\n",
    "        'random_state': [random_state]\n",
    "    },\n",
    "    'KNeighborsClassifier': {\n",
    "        'n_neighbors': [3, 4, 5, 6, 7, 8, 9, 10],\n",
    "        'weights': ['distance']\n",
    "    },\n",
    "    'LogisticRegression':{\n",
    "        'C': [1, 10, 100],\n",
    "        'penalty': ['none', 'l2'],\n",
    "        'random_state': [42]\n",
    "    },\n",
    "    'SVM': {\n",
    "        'C': [10],\n",
    "        'kernel': ['poly', 'rbf'],\n",
    "        'random_state': [random_state]\n",
    "    }\n",
    "}\n",
    "\n",
    "tuning_scores = []\n",
    "for model_name, parameters in model_parameters.items():\n",
    "    model = models[model_name]\n",
    "    \n",
    "    cv = KFold(n_splits=n_splits, random_state=random_state, shuffle=True)\n",
    "    grid_search = GridSearchCV(model, parameters, cv=cv, n_jobs=-1, verbose=False, scoring=scoring_method).fit(X_train_processed, y_train_raw.values.ravel())\n",
    "    \n",
    "    best_model = grid_search.best_estimator_\n",
    "    best_score = grid_search.best_score_\n",
    "    best_params = grid_search.best_params_\n",
    "    \n",
    "    tuning_scores.append([model_name, best_score])\n",
    "    \n",
    "    print(f\"\\n{model_name}\")\n",
    "    print(\"- best_score =\", best_score)\n",
    "    print(\"best parameters:\")\n",
    "    for k,v in best_params.items():\n",
    "        print(\"-\", k, v)"
   ]
  },
  {
   "cell_type": "markdown",
   "metadata": {},
   "source": [
    "### Question 4"
   ]
  },
  {
   "cell_type": "code",
   "execution_count": 45,
   "metadata": {},
   "outputs": [
    {
     "data": {
      "text/plain": [
       "(0.75, 0.85)"
      ]
     },
     "execution_count": 45,
     "metadata": {},
     "output_type": "execute_result"
    },
    {
     "data": {
      "image/png": "[encoded data removed]",
      "text/plain": [
       "<Figure size 432x288 with 1 Axes>"
      ]
     },
     "metadata": {
      "needs_background": "light"
     },
     "output_type": "display_data"
    }
   ],
   "source": [
    "%matplotlib inline\n",
    "df = pd.DataFrame(tuning_scores, columns=[\"Algorithm\", \"F1_mean\"])\n",
    "axes_mean = df.plot(x=\"Algorithm\", y=[\"F1_mean\"], kind=\"bar\")\n",
    "axes_mean.set_ylim(0.75, 0.85)"
   ]
  },
  {
   "cell_type": "markdown",
   "metadata": {},
   "source": [
    "### Question 5"
   ]
  },
  {
   "cell_type": "code",
   "execution_count": 47,
   "metadata": {},
   "outputs": [
    {
     "name": "stdout",
     "output_type": "stream",
     "text": [
      "[0 0 0 ... 0 0 0]\n"
     ]
    }
   ],
   "source": [
    "final_model = DecisionTreeClassifier(max_depth=10, min_samples_leaf=2, random_state=42)\n",
    "final_model.fit(X_train, y_train.values.ravel())\n",
    "prediction = final_model.predict(X_unknown_processed)\n",
    "print(prediction)\n",
    "pd.DataFrame(prediction).to_csv(\"GROUP_classes_problem_census.txt\", index=False, header=False)"
   ]
  },
  {
   "cell_type": "code",
   "execution_count": null,
   "metadata": {},
   "outputs": [],
   "source": []
  }
 ],
 "metadata": {
  "kernelspec": {
   "display_name": "Python 3",
   "language": "python",
   "name": "python3"
  },
  "language_info": {
   "codemirror_mode": {
    "name": "ipython",
    "version": 3
   },
   "file_extension": ".py",
   "mimetype": "text/x-python",
   "name": "python",
   "nbconvert_exporter": "python",
   "pygments_lexer": "ipython3",
   "version": "3.8.5"
  }
 },
 "nbformat": 4,
 "nbformat_minor": 4
}
