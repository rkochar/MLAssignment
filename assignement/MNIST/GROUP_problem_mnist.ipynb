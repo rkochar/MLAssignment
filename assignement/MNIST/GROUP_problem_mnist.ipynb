{
 "cells": [
  {
   "cell_type": "markdown",
   "metadata": {},
   "source": [
    "# MNIST"
   ]
  },
  {
   "cell_type": "code",
   "execution_count": 35,
   "metadata": {},
   "outputs": [],
   "source": [
    "import numpy as np\n",
    "import pandas as pd\n",
    "\n",
    "from sklearn.naive_bayes import GaussianNB\n",
    "from sklearn.dummy import DummyClassifier\n",
    "from sklearn.tree import DecisionTreeClassifier\n",
    "from sklearn.svm import SVC\n",
    "from sklearn.neighbors import KNeighborsClassifier\n",
    "from sklearn.linear_model import LogisticRegression\n",
    "\n",
    "import matplotlib.pyplot as plt"
   ]
  },
  {
   "cell_type": "markdown",
   "metadata": {},
   "source": [
    "## Global config"
   ]
  },
  {
   "cell_type": "code",
   "execution_count": null,
   "metadata": {},
   "outputs": [],
   "source": [
    "# TODO"
   ]
  },
  {
   "cell_type": "markdown",
   "metadata": {},
   "source": [
    "## Load data"
   ]
  },
  {
   "cell_type": "code",
   "execution_count": 36,
   "metadata": {},
   "outputs": [],
   "source": [
    "mnist_28x28_train = np.load(\"mnist_28x28_train.npy\")\n",
    "mnist_8x8_train = np.load(\"mnist_8x8_train.npy\")\n",
    "train_labels = np.load(\"train_labels.npy\")\n",
    "\n",
    "mnist_28x28_test = np.load(\"mnist_28x28_test.npy\")\n",
    "mnist_8x8_test = np.load(\"mnist_8x8_test.npy\")"
   ]
  },
  {
   "cell_type": "markdown",
   "metadata": {},
   "source": [
    "## Helpers"
   ]
  },
  {
   "cell_type": "code",
   "execution_count": 37,
   "metadata": {},
   "outputs": [],
   "source": [
    "# TODO\n",
    "from sklearn.metrics import make_scorer\n",
    "from sklearn.model_selection import KFold\n",
    "from sklearn.model_selection import cross_validate\n",
    "\n",
    "def k_fold_fit_and_evaluate(X, y, model, scoring_method, n_splits=5):\n",
    "    # define evaluation procedure\n",
    "    cv = KFold(n_splits=n_splits, random_state=42, shuffle=True)\n",
    "    # evaluate model\n",
    "    scores = cross_validate(model, X, y, scoring=scoring_method, cv=cv, n_jobs=-1)\n",
    "       \n",
    "    return scores[\"test_score\"]\n",
    "\n",
    "scoring_method = make_scorer(lambda prediction, true_target: f1_score(prediction, true_target, average=\"micro\"))"
   ]
  },
  {
   "cell_type": "code",
   "execution_count": 38,
   "metadata": {},
   "outputs": [],
   "source": [
    "models = {\n",
    "    \"GaussianNB\": GaussianNB(),\n",
    "    \"DummyClassifier\": DummyClassifier(strategy=\"most_frequent\"),\n",
    "    \"DecisionTreeClassifier\": DecisionTreeClassifier(max_depth=None, min_samples_leaf=2, random_state=42),\n",
    "    \"KNeighborsClassifier\": KNeighborsClassifier(n_neighbors=3, weights=\"distance\"),\n",
    "    \"SVM\": SVC(C=10, kernel=\"poly\", random_state=42),\n",
    "    \"LogisticRegression\": LogisticRegression(C=10, random_state=42, max_iter=1000)\n",
    "}"
   ]
  },
  {
   "cell_type": "markdown",
   "metadata": {},
   "source": [
    "##  Data exploration"
   ]
  },
  {
   "cell_type": "markdown",
   "metadata": {},
   "source": [
    "### Question 1\n",
    "Hint: `plt.imshow`"
   ]
  },
  {
   "cell_type": "code",
   "execution_count": 39,
   "metadata": {},
   "outputs": [
    {
     "name": "stdout",
     "output_type": "stream",
     "text": [
      "[0 1 2 3 4 5 6 7 8 9]\n",
      "Train 8 shape:  (3750, 8, 8)\n",
      "Train 28 shape:  (3750, 28, 28)\n",
      "Test 8 shape:  (1250, 8, 8)\n",
      "Test 28 shape:  (1250, 28, 28)\n",
      "Labels size:  3750\n",
      "[[[  0   0   0 ...   0   0   0]\n",
      "  [  0   0   0 ...  92  22   0]\n",
      "  [  0   0   0 ... 155  14   0]\n",
      "  ...\n",
      "  [  0   0  49 ...   0   0   0]\n",
      "  [  0   0  98 ...   0   0   0]\n",
      "  [  0   0  22 ...   0   0   0]]\n",
      "\n",
      " [[  0   0   0 ...   0   0   0]\n",
      "  [  0   3  17 ...   9   1   0]\n",
      "  [  0  28 176 ... 164  36   0]\n",
      "  ...\n",
      "  [  0   0   1 ...  27   0   0]\n",
      "  [  0   0  24 ...   1   0   0]\n",
      "  [  0   0  42 ...   0   0   0]]\n",
      "\n",
      " [[  0   0   1 ...   0   0   0]\n",
      "  [  0   0  41 ...  21   1   0]\n",
      "  [  0   5 139 ... 131  58   2]\n",
      "  ...\n",
      "  [  0  21 130 ...  86 112  14]\n",
      "  [  0   2  57 ...  98  20   0]\n",
      "  [  0   0   0 ...   1   0   0]]\n",
      "\n",
      " ...\n",
      "\n",
      " [[  0   0   0 ...   0   0   0]\n",
      "  [  0   0   7 ...  20   1   0]\n",
      "  [  0   0  11 ...  96  36   1]\n",
      "  ...\n",
      "  [  0   1  25 ...  27   0   0]\n",
      "  [  0   2  70 ...  17   0   0]\n",
      "  [  0   0  13 ...   1   0   0]]\n",
      "\n",
      " [[  0   0   0 ...   0   0   0]\n",
      "  [  0   0  19 ...  80  10   0]\n",
      "  [  0   9 134 ... 221  65   0]\n",
      "  ...\n",
      "  [  0 109 156 ... 159  42  20]\n",
      "  [  0  29 177 ...  31  21  15]\n",
      "  [  0   1  28 ...   0   1   1]]\n",
      "\n",
      " [[  0   0   0 ...  26   0   0]\n",
      "  [  0   0   9 ...  24   0   0]\n",
      "  [  0   3  99 ...   0   0   0]\n",
      "  ...\n",
      "  [  0  28 173 ... 185 131  16]\n",
      "  [  0   1  30 ...  46   9   0]\n",
      "  [  0   0   0 ...   0   0   0]]]\n"
     ]
    }
   ],
   "source": [
    "print(np.unique(train_labels))\n",
    "print(\"Train 8 shape: \", mnist_8x8_train.shape)\n",
    "print(\"Train 28 shape: \", mnist_28x28_train.shape)\n",
    "print(\"Test 8 shape: \", mnist_8x8_test.shape)\n",
    "print(\"Test 28 shape: \", mnist_28x28_test.shape)\n",
    "print(\"Labels size: \", len(train_labels))\n",
    "print(mnist_8x8_train)"
   ]
  },
  {
   "cell_type": "code",
   "execution_count": 41,
   "metadata": {},
   "outputs": [
    {
     "data": {
      "image/png": "[encoded data removed]",
      "text/plain": [
       "<Figure size 432x288 with 1 Axes>"
      ]
     },
     "metadata": {
      "needs_background": "light"
     },
     "output_type": "display_data"
    },
    {
     "data": {
      "image/png": "[encoded data removed]",
      "text/plain": [
       "<Figure size 432x288 with 1 Axes>"
      ]
     },
     "metadata": {
      "needs_background": "light"
     },
     "output_type": "display_data"
    },
    {
     "data": {
      "image/png": "[encoded data removed]",
      "text/plain": [
       "<Figure size 432x288 with 1 Axes>"
      ]
     },
     "metadata": {
      "needs_background": "light"
     },
     "output_type": "display_data"
    },
    {
     "data": {
      "image/png": "[encoded data removed]",
      "text/plain": [
       "<Figure size 432x288 with 1 Axes>"
      ]
     },
     "metadata": {
      "needs_background": "light"
     },
     "output_type": "display_data"
    },
    {
     "data": {
      "image/png": "[encoded data removed]",
      "text/plain": [
       "<Figure size 432x288 with 1 Axes>"
      ]
     },
     "metadata": {
      "needs_background": "light"
     },
     "output_type": "display_data"
    },
    {
     "data": {
      "image/png": "[encoded data removed]",
      "text/plain": [
       "<Figure size 432x288 with 1 Axes>"
      ]
     },
     "metadata": {
      "needs_background": "light"
     },
     "output_type": "display_data"
    },
    {
     "data": {
      "image/png": "[encoded data removed]",
      "text/plain": [
       "<Figure size 432x288 with 1 Axes>"
      ]
     },
     "metadata": {
      "needs_background": "light"
     },
     "output_type": "display_data"
    },
    {
     "data": {
      "image/png": "[encoded data removed]",
      "text/plain": [
       "<Figure size 432x288 with 1 Axes>"
      ]
     },
     "metadata": {
      "needs_background": "light"
     },
     "output_type": "display_data"
    },
    {
     "data": {
      "image/png": "[encoded data removed]",
      "text/plain": [
       "<Figure size 432x288 with 1 Axes>"
      ]
     },
     "metadata": {
      "needs_background": "light"
     },
     "output_type": "display_data"
    },
    {
     "data": {
      "image/png": "[encoded data removed]",
      "text/plain": [
       "<Figure size 432x288 with 1 Axes>"
      ]
     },
     "metadata": {
      "needs_background": "light"
     },
     "output_type": "display_data"
    }
   ],
   "source": [
    "# TODO\n",
    "i = 0\n",
    "for m in mnist_8x8_test:\n",
    "    if i < 10:\n",
    "        plt.imshow(m)\n",
    "        plt.show()\n",
    "        i += 1\n",
    "    else:\n",
    "        break\n",
    "    "
   ]
  },
  {
   "cell_type": "code",
   "execution_count": 42,
   "metadata": {},
   "outputs": [
    {
     "data": {
      "image/png": "[encoded data removed]",
      "text/plain": [
       "<Figure size 432x288 with 1 Axes>"
      ]
     },
     "metadata": {
      "needs_background": "light"
     },
     "output_type": "display_data"
    },
    {
     "data": {
      "image/png": "[encoded data removed]",
      "text/plain": [
       "<Figure size 432x288 with 1 Axes>"
      ]
     },
     "metadata": {
      "needs_background": "light"
     },
     "output_type": "display_data"
    },
    {
     "data": {
      "image/png": "[encoded data removed]",
      "text/plain": [
       "<Figure size 432x288 with 1 Axes>"
      ]
     },
     "metadata": {
      "needs_background": "light"
     },
     "output_type": "display_data"
    },
    {
     "data": {
      "image/png": "[encoded data removed]",
      "text/plain": [
       "<Figure size 432x288 with 1 Axes>"
      ]
     },
     "metadata": {
      "needs_background": "light"
     },
     "output_type": "display_data"
    },
    {
     "data": {
      "image/png": "[encoded data removed]",
      "text/plain": [
       "<Figure size 432x288 with 1 Axes>"
      ]
     },
     "metadata": {
      "needs_background": "light"
     },
     "output_type": "display_data"
    },
    {
     "data": {
      "image/png": "[encoded data removed]",
      "text/plain": [
       "<Figure size 432x288 with 1 Axes>"
      ]
     },
     "metadata": {
      "needs_background": "light"
     },
     "output_type": "display_data"
    },
    {
     "data": {
      "image/png": "[encoded data removed]",
      "text/plain": [
       "<Figure size 432x288 with 1 Axes>"
      ]
     },
     "metadata": {
      "needs_background": "light"
     },
     "output_type": "display_data"
    },
    {
     "data": {
      "image/png": "[encoded data removed]",
      "text/plain": [
       "<Figure size 432x288 with 1 Axes>"
      ]
     },
     "metadata": {
      "needs_background": "light"
     },
     "output_type": "display_data"
    },
    {
     "data": {
      "image/png": "[encoded data removed]",
      "text/plain": [
       "<Figure size 432x288 with 1 Axes>"
      ]
     },
     "metadata": {
      "needs_background": "light"
     },
     "output_type": "display_data"
    },
    {
     "data": {
      "image/png": "[encoded data removed]",
      "text/plain": [
       "<Figure size 432x288 with 1 Axes>"
      ]
     },
     "metadata": {
      "needs_background": "light"
     },
     "output_type": "display_data"
    }
   ],
   "source": [
    "# TODO\n",
    "i = 0\n",
    "for m in mnist_28x28_train:\n",
    "    if i < 10:\n",
    "        plt.imshow(m)\n",
    "        plt.show()\n",
    "        i += 1\n",
    "    else:\n",
    "        break"
   ]
  },
  {
   "cell_type": "markdown",
   "metadata": {},
   "source": [
    "##  Data Preparations"
   ]
  },
  {
   "cell_type": "markdown",
   "metadata": {},
   "source": [
    "### Question 1"
   ]
  },
  {
   "cell_type": "code",
   "execution_count": 43,
   "metadata": {},
   "outputs": [],
   "source": [
    "# Scale all values to between 0 and 1\n",
    "# Didn't make any difference\n",
    "scale_train_8 = mnist_8x8_train / 255.0\n",
    "scale_test_8 = mnist_8x8_test / 255.0\n",
    "scale_train_28 = mnist_28x28_train / 255.0\n",
    "scale_test_28 = mnist_28x28_test / 255.0"
   ]
  },
  {
   "cell_type": "code",
   "execution_count": 44,
   "metadata": {},
   "outputs": [],
   "source": [
    "# Reshape all images from NxN to N^2x1.\n",
    "from sklearn.preprocessing import Normalizer\n",
    "\n",
    "def reshape_fit_trans(mnist_input):\n",
    "    nsam_input, nx_input, ny_input = mnist_input.shape\n",
    "    tmp_train_input = mnist_input.reshape(nsam_input, nx_input * ny_input)\n",
    "    return Normalizer().fit_transform(tmp_train_input)\n",
    "    #X_reshape_8_train = X_fit_trans_8_train.reshape(nsam_train, nxx, nyy)\n",
    "\n",
    "X_fit_trans_8_train = reshape_fit_trans(scale_train_8)\n",
    "X_fit_trans_8_test = reshape_fit_trans(scale_test_8)\n",
    "X_fit_trans_28_train = reshape_fit_trans(scale_train_28)\n",
    "X_fit_trans_28_test = reshape_fit_trans(scale_test_28)"
   ]
  },
  {
   "cell_type": "markdown",
   "metadata": {},
   "source": [
    "## Experiments"
   ]
  },
  {
   "cell_type": "markdown",
   "metadata": {},
   "source": [
    "### Question 1"
   ]
  },
  {
   "cell_type": "code",
   "execution_count": 7,
   "metadata": {},
   "outputs": [],
   "source": [
    "# Split data\n",
    "from sklearn.model_selection import train_test_split\n",
    "\n",
    "X8_train, X8_test, y8_train, y8_test = train_test_split(X_fit_trans_8_train, \n",
    "                train_labels, test_size=0.1, random_state=42, \n",
    "                shuffle=True, stratify=train_labels)\n",
    "\n",
    "X28_train, X28_test, y28_train, y28_test = train_test_split(X_fit_trans_28_train, \n",
    "                train_labels, test_size=0.1, random_state=42, \n",
    "                shuffle=True, stratify=train_labels)"
   ]
  },
  {
   "cell_type": "markdown",
   "metadata": {},
   "source": [
    "### Question 2"
   ]
  },
  {
   "cell_type": "code",
   "execution_count": 8,
   "metadata": {},
   "outputs": [],
   "source": [
    "from sklearn.metrics import f1_score, accuracy_score\n",
    "from tabulate import tabulate\n",
    "# TODO\n",
    "def fit_predict(X_train, X_test, y_train, y_test):\n",
    "    table = []\n",
    "    for name, model in models.items():\n",
    "        model.fit(X_train, y_train)\n",
    "        pred = model.predict(X_test)\n",
    "        f = f1_score(pred, y_test, average='weighted')\n",
    "        acc = accuracy_score(pred, y_test)\n",
    "        \n",
    "        table.append([name, f, acc])\n",
    "    return table"
   ]
  },
  {
   "cell_type": "code",
   "execution_count": 9,
   "metadata": {},
   "outputs": [],
   "source": [
    "# k-fold\n",
    "def kfold_fit_eval(X_train, y_train):\n",
    "    table2 = []\n",
    "    for name, model in models.items():\n",
    "        tmp_acc = k_fold_fit_and_evaluate(X_train, y_train, model, scoring_method)\n",
    "        m_acc = np.mean(tmp_acc)\n",
    "        std_acc = np.std(tmp_acc)\n",
    "        table2.append([name, m_acc, std_acc])\n",
    "    return table2"
   ]
  },
  {
   "cell_type": "code",
   "execution_count": 31,
   "metadata": {},
   "outputs": [
    {
     "name": "stdout",
     "output_type": "stream",
     "text": [
      "Name                          F1    Accuracy\n",
      "----------------------  --------  ----------\n",
      "GaussianNB              0.663124    0.626667\n",
      "DummyClassifier         0.188406    0.104\n",
      "DecisionTreeClassifier  0.762462    0.762667\n",
      "KNeighborsClassifier    0.930339    0.930667\n",
      "SVM                     0.95991     0.96\n",
      "LogisticRegression      0.898203    0.898667\n",
      "Name                         Mean     Std_Acc\n",
      "----------------------  ---------  ----------\n",
      "GaussianNB              0.596444   0.0383312\n",
      "DummyClassifier         0.0974815  0.00533333\n",
      "DecisionTreeClassifier  0.788444   0.0129966\n",
      "KNeighborsClassifier    0.939556   0.00865875\n",
      "SVM                     0.943704   0.00761199\n",
      "LogisticRegression      0.893333   0.0096011\n"
     ]
    }
   ],
   "source": [
    "# X_kfold_train, table = \n",
    "table_8 = fit_predict(X8_train, X8_test, y8_train, y8_test)\n",
    "table2_8 = kfold_fit_eval(X8_train, y8_train)\n",
    "print(tabulate(table_8, headers=['Name', 'F1', 'Accuracy']))\n",
    "print(tabulate(table2_8, headers=['Name', 'Mean', 'Std_Acc']))"
   ]
  },
  {
   "cell_type": "code",
   "execution_count": 34,
   "metadata": {},
   "outputs": [
    {
     "data": {
      "text/plain": [
       "<matplotlib.axes._subplots.AxesSubplot at 0x7fc0521e7610>"
      ]
     },
     "execution_count": 34,
     "metadata": {},
     "output_type": "execute_result"
    },
    {
     "data": {
      "image/png": "[encoded data removed]",
      "text/plain": [
       "<Figure size 900x450 with 1 Axes>"
      ]
     },
     "metadata": {
      "needs_background": "light"
     },
     "output_type": "display_data"
    }
   ],
   "source": [
    "graph = [['GaussianNB', 0.663124],\n",
    "['DummyClassifier', 0.188406],\n",
    "['DecisionTreeClassifier', 0.762462],\n",
    "['KNeighborsClassifier', 0.930339],\n",
    "['SVM', 0.95991],\n",
    "['LogisticRegression', 0.898203]]\n",
    "\n",
    "df = pd.DataFrame(graph, columns=[\"Model\", \"Score 8x8\",])\n",
    "df.plot.bar('Model', [\"Score 8x8\"], figsize=(12.5,6.25))"
   ]
  },
  {
   "cell_type": "code",
   "execution_count": 51,
   "metadata": {},
   "outputs": [],
   "source": [
    "# model_name = list(zip(*table_8))[0]\n",
    "# f1 = list(zip(*table_8))[1]\n",
    "# acc = list(zip(*table_8))[2]\n",
    "\n",
    "# df = pd.DataFrame(table_8, columns=[\"Model\", \"F1\", \"Accuracy\"])\n",
    "# df.plot('Model', ['F1', 'Accuracy'], kind='bar')"
   ]
  },
  {
   "cell_type": "code",
   "execution_count": 11,
   "metadata": {
    "scrolled": true
   },
   "outputs": [
    {
     "name": "stdout",
     "output_type": "stream",
     "text": [
      "Name                          F1    Accuracy\n",
      "----------------------  --------  ----------\n",
      "GaussianNB              0.623049    0.581333\n",
      "DummyClassifier         0.188406    0.104\n",
      "DecisionTreeClassifier  0.723819    0.72\n",
      "KNeighborsClassifier    0.936158    0.936\n",
      "SVM                     0.949388    0.949333\n",
      "LogisticRegression      0.89589     0.896\n",
      "Name                        Mean    Std_Acc\n",
      "----------------------  --------  ---------\n",
      "GaussianNB              0.623049   0.581333\n",
      "DummyClassifier         0.188406   0.104\n",
      "DecisionTreeClassifier  0.723819   0.72\n",
      "KNeighborsClassifier    0.936158   0.936\n",
      "SVM                     0.949388   0.949333\n",
      "LogisticRegression      0.89589    0.896\n"
     ]
    }
   ],
   "source": [
    "#X_kfold_train_28, table = \n",
    "table_28 = fit_predict(X28_train, X28_test, y28_train, y28_test)\n",
    "table2_28 = kfold_fit_eval(X28_train, y28_train)\n",
    "print(tabulate(table_28, headers=['Name', 'F1', 'Accuracy']))\n",
    "print(tabulate(table_28, headers=['Name', 'Mean', 'Std_Acc']))"
   ]
  },
  {
   "cell_type": "code",
   "execution_count": null,
   "metadata": {},
   "outputs": [],
   "source": [
    "# t2 = list(zip(*table_28))\n",
    "# for i, e in enumerate(t2[1]):\n",
    "#     table_28[i].append(e)\n",
    "#     table_28[i].append(t2[2][i])\n",
    "# print(tabulate(table_28, headers=['Name', 'F1', 'Accuracy', 'Mean', 'Std_Acc']))"
   ]
  },
  {
   "cell_type": "code",
   "execution_count": null,
   "metadata": {},
   "outputs": [],
   "source": [
    "# model_name = list(zip(*table_28))[0]\n",
    "# f1 = list(zip(*table_28))[1]\n",
    "# acc = list(zip(*table_28))[2]\n",
    "\n",
    "# df = pd.DataFrame(table_28, columns=[\"Model\", \"F1\", \"Accuracy\", 'Mean', 'Standard Deviation'])\n",
    "# df.plot('Model', ['F1', 'Accuracy', 'Mean', 'Standard Deviation'], kind='bar')"
   ]
  },
  {
   "cell_type": "markdown",
   "metadata": {},
   "source": [
    "### Question 3"
   ]
  },
  {
   "cell_type": "code",
   "execution_count": 16,
   "metadata": {},
   "outputs": [],
   "source": [
    "from sklearn.model_selection import GridSearchCV\n",
    "\n",
    "random_state = 42\n",
    "n_splits = 5\n",
    "\n",
    "model_parameters = {\n",
    "    \"GaussianNB\": {\n",
    "        \n",
    "    },\n",
    "    \"DummyClassifier\": {\n",
    "        'strategy': [\"most_frequent\"]\n",
    "    },\n",
    "    \"DecisionTreeClassifier\": {\n",
    "        'random_state': [42],\n",
    "        'max_depth': [None, 2, 3, 4, 5, 6, 7, 10, 42]\n",
    "    },\n",
    "    # START ANSWER\n",
    "    'KNeighborsClassifier': {\n",
    "        'n_neighbors': [2, 3, 4, 5, 6, 7, 10, 11, 25, 42],\n",
    "        'weights': ['distance', 'uniform'],\n",
    "        \"n_jobs\": [-1]\n",
    "        #'p': [1, 2, 3, 4, 5, 6, 7, 8, 9, 10, 11, 12, 13, 14, 15, 16, 17, 18, 19, 20]\n",
    "    },\n",
    "    'SVM': {\n",
    "        'random_state': [42],\n",
    "        'C': [0.1, 1, 2, 2.25, 2.3, 3.75, 2.4, 2.31, 2,42, 2,43, 2,44, 2,45, 2.5, 2.6, 2.675, 2.7, 2.75, \n",
    "              2.8, 2.81, 2.82, 2.821, 2,822, 2,823, 2,824, 2.825, 2.83, 2.85, 3, 3.25, 3,5, 4, 4,5 , 5, \n",
    "              6, 7, 8, 9, 10, 11, 12, 15, 100, 1000],\n",
    "        #'gamma': [1, 0.5, 0.1, 0.05, 0.01, 0.001, 0.0005, 0.0001, 'scale'],\n",
    "        'kernel': ['poly', 'sigmoid', 'linear', 'rbf']\n",
    "    },\n",
    "    'LogisticRegression':{\n",
    "        'C': [0.1, 1, 2, 2.25, 2.3, 3.75, 2.4, 2.31, 2,42, 2,43, 2,44, 2,45, 2.5, 2.6, 2.675, 2.7, 2.75, \n",
    "              2.8, 2.81, 2.82, 2.821, 2,822, 2,823, 2,824, 2.825, 2.83, 2.85, 3, 3.25, 3,5, 4, 4,5 , 5, \n",
    "              6, 7, 8, 9, 10, 11, 12, 15, 100, 1000],\n",
    "        'penalty': ['none', 'elasticnet', 'l2', 'l1'],\n",
    "        'random_state': [42]\n",
    "    }\n",
    "    # END ANSWER\n",
    "}\n"
   ]
  },
  {
   "cell_type": "code",
   "execution_count": 17,
   "metadata": {},
   "outputs": [
    {
     "name": "stdout",
     "output_type": "stream",
     "text": [
      "GaussianNB\n",
      "- best_score = 0.6026666666666666\n",
      "best paramters:\n",
      "DummyClassifier\n",
      "- best_score = 0.09706666666666668\n",
      "best paramters:\n",
      "- strategy most_frequent\n",
      "DecisionTreeClassifier\n",
      "- best_score = 0.7845333333333333\n",
      "best paramters:\n",
      "- max_depth None\n",
      "- random_state 42\n",
      "KNeighborsClassifier\n",
      "- best_score = 0.9410666666666666\n",
      "best paramters:\n",
      "- n_jobs -1\n",
      "- n_neighbors 4\n",
      "- weights uniform\n",
      "SVM\n",
      "- best_score = 0.9544\n",
      "best paramters:\n",
      "- C 2.82\n",
      "- kernel poly\n",
      "- random_state 42\n",
      "LogisticRegression\n",
      "- best_score = 0.8984\n",
      "best paramters:\n",
      "- C 100\n",
      "- penalty l2\n",
      "- random_state 42\n"
     ]
    }
   ],
   "source": [
    "for model_name, parameters in model_parameters.items():\n",
    "    model = models[model_name]\n",
    "    \n",
    "    cv = KFold(n_splits=n_splits, random_state=random_state, shuffle=True)\n",
    "    grid_search = GridSearchCV(model, parameters, cv=cv, n_jobs=-1, verbose=False, \n",
    "                               scoring=scoring_method).fit(X_fit_trans_8_train, train_labels)\n",
    "    \n",
    "    best_model = grid_search.best_estimator_\n",
    "    best_score = grid_search.best_score_\n",
    "    best_params = grid_search.best_params_\n",
    "    \n",
    "    print(model_name)\n",
    "    print(\"- best_score =\", best_score)\n",
    "    print(\"best paramters:\")\n",
    "    for k,v in best_params.items():\n",
    "        print(\"-\", k, v)"
   ]
  },
  {
   "cell_type": "code",
   "execution_count": 18,
   "metadata": {
    "scrolled": true
   },
   "outputs": [
    {
     "name": "stdout",
     "output_type": "stream",
     "text": [
      "GaussianNB\n",
      "- best_score = 0.5826666666666667\n",
      "best paramters:\n",
      "DummyClassifier\n",
      "- best_score = 0.09706666666666668\n",
      "best paramters:\n",
      "- strategy most_frequent\n",
      "DecisionTreeClassifier\n",
      "- best_score = 0.7381333333333333\n",
      "best paramters:\n",
      "- max_depth 10\n",
      "- random_state 42\n",
      "KNeighborsClassifier\n",
      "- best_score = 0.9418666666666666\n",
      "best paramters:\n",
      "- n_jobs -1\n",
      "- n_neighbors 4\n",
      "- weights distance\n",
      "SVM\n",
      "- best_score = 0.9573333333333334\n",
      "best paramters:\n",
      "- C 3.75\n",
      "- kernel poly\n",
      "- random_state 42\n",
      "LogisticRegression\n",
      "- best_score = 0.8946666666666667\n",
      "best paramters:\n",
      "- C 6\n",
      "- penalty l2\n",
      "- random_state 42\n"
     ]
    }
   ],
   "source": [
    "for model_name, parameters in model_parameters.items():\n",
    "    model = models[model_name]\n",
    "    \n",
    "    cv = KFold(n_splits=n_splits, random_state=random_state, shuffle=True)\n",
    "    grid_search = GridSearchCV(model, parameters, cv=cv, n_jobs=-1, verbose=False, \n",
    "                               scoring=scoring_method).fit(X_fit_trans_28_train, train_labels)\n",
    "    \n",
    "    best_model = grid_search.best_estimator_\n",
    "    best_score = grid_search.best_score_\n",
    "    best_params = grid_search.best_params_\n",
    "    \n",
    "    print(model_name)\n",
    "    print(\"- best_score =\", best_score)\n",
    "    print(\"best paramters:\")\n",
    "    for k,v in best_params.items():\n",
    "        print(\"-\", k, v)"
   ]
  },
  {
   "cell_type": "markdown",
   "metadata": {},
   "source": [
    "### Question 4 "
   ]
  },
  {
   "cell_type": "code",
   "execution_count": 30,
   "metadata": {},
   "outputs": [
    {
     "data": {
      "text/plain": [
       "<matplotlib.axes._subplots.AxesSubplot at 0x7fc05084a790>"
      ]
     },
     "execution_count": 30,
     "metadata": {},
     "output_type": "execute_result"
    },
    {
     "data": {
      "image/png": "[encoded data removed]",
      "text/plain": [
       "<Figure size 900x450 with 1 Axes>"
      ]
     },
     "metadata": {
      "needs_background": "light"
     },
     "output_type": "display_data"
    }
   ],
   "source": [
    "#TODO\n",
    "results = [['GaussianNB', 0.663124, 0.6026, 0.623049, 0.5826],\n",
    "['DummyClassifier', 0.188406, 0.097, 0.188406, 0.097],\n",
    "['DecisionTreeClassifier', 0.762462, 0.78453, 0.723819, 0.738],\n",
    "['KNeighborsClassifier', 0.930339, 0.94106, 0.936158, 0.9418],\n",
    "['SVM', 0.95991, 0.9544, 0.949388, 0.957],\n",
    "['LogisticRegression', 0.898203, 0.8984, 0.89589, 0.8946]]\n",
    "\n",
    "df = pd.DataFrame(results, columns=[\"Model\", \"Original 8x8\", \n",
    "            \"GridSearchCV 8x8\", \"Original 28x28\", \"GridSearchCV 28x28\"])\n",
    "df.plot('Model', [\"Original 8x8\", \"GridSearchCV 8x8\", \"Original 28x28\", \n",
    "                  \"GridSearchCV 28x28\"], figsize=(12.5,6.25))"
   ]
  },
  {
   "cell_type": "markdown",
   "metadata": {},
   "source": [
    "### Question 5"
   ]
  },
  {
   "cell_type": "code",
   "execution_count": null,
   "metadata": {},
   "outputs": [],
   "source": [
    "#TODO"
   ]
  },
  {
   "cell_type": "markdown",
   "metadata": {},
   "source": [
    "### Question 6"
   ]
  },
  {
   "cell_type": "code",
   "execution_count": 49,
   "metadata": {},
   "outputs": [],
   "source": [
    "#TODO\n",
    "prediction = np.array([-1] * len(mnist_8x8_test))\n",
    "#TODO replace this with you own prediction\n",
    "\n",
    "svm_final = SVC(C=3.75, kernel=\"poly\", random_state=42)\n",
    "svm_final.fit(X28_train, y28_train)\n",
    "prediction = svm_final.predict(X_fit_trans_28_test)\n",
    "pd.DataFrame(prediction).to_csv(\"GROUP_classes_problem_mnist.txt\", index=False, header=False)"
   ]
  },
  {
   "cell_type": "code",
   "execution_count": null,
   "metadata": {},
   "outputs": [],
   "source": [
    "def remove_constant_pixels(pixels_df):\n",
    "    \"\"\"Removes from the images the pixels that have a constant intensity value,\n",
    "    either always black (0) or white (255)\n",
    "    Returns the cleared dataset & the list of the removed pixels (columns)\"\"\"\n",
    "\n",
    "    #Remove the pixels that are always black to compute faster\n",
    "    changing_pixels_df = pixels_df.loc[:]\n",
    "    dropped_pixels_b = []\n",
    "\n",
    "    #Pixels with max value =0 are pixels that never change\n",
    "    for col in pixels_df:\n",
    "        if changing_pixels_df[col].max() == 0:\n",
    "            changing_pixels_df.drop(columns=[col], inplace=True)\n",
    "            dropped_pixels_b.append(col)\n",
    "    print(\"Constantly black pixels that have been dropped: {}\".format(dropped_pixels_b))\n",
    "\n",
    "\n",
    "    #Same with pixels with min=255 (white pixels)\n",
    "    dropped_pixels_w = []\n",
    "    for col in changing_pixels_df:\n",
    "        if changing_pixels_df[col].min() == 255:\n",
    "            changing_pixels_df.drop(columns=[col], inplace=True)\n",
    "            dropped_pixel_w.append(col)\n",
    "    print(\"\\n Constantly white pixels that have been dropped: {}\".format(dropped_pixels_b))\n",
    "\n",
    "    print(changing_pixels_df.head())\n",
    "    print(\"Remaining pixels: {}\".format(len(changing_pixels_df.columns)))\n",
    "    print(\"Pixels removed: {}\".format(784-len(changing_pixels_df.columns)))\n",
    "    \n",
    "    return changing_pixels_df, dropped_pixels_b + dropped_pixels_w"
   ]
  },
  {
   "cell_type": "code",
   "execution_count": null,
   "metadata": {},
   "outputs": [],
   "source": [
    "# Rescale and convert to black and white\n",
    "np.seterr(divide='ignore', invalid='ignore')\n",
    "\n",
    "def rescale_decolourize(image):\n",
    "    #print(image)\n",
    "    pmin, pmax = image.min(), image.max()\n",
    "    rescaled_image = 255 * (image - pmin) / (pmax - pmin)\n",
    "    rescaled_pixels = rescaled_image\n",
    "    print(rescaled_pixels)\n",
    "\n",
    "    i = 0\n",
    "    for m in rescaled_pixels:\n",
    "        if i < 10:\n",
    "            plt.imshow(m)\n",
    "            plt.show()\n",
    "            i += 1\n",
    "        else:\n",
    "            pass\n",
    "\n",
    "    # Only black or white pixels\n",
    "    for i in range(len(image[0])):\n",
    "        for j, x in enumerate(rescaled_pixels[i]):\n",
    "            image[i][j] = 0 if x < 128 else 255\n",
    "    return image\n",
    "    # return image.apply(lambda x: 0 if x<128 else 255)\n",
    "    # bw_image = image.values.reshape((8,8))\n",
    "    # return bw_image"
   ]
  }
 ],
 "metadata": {
  "kernelspec": {
   "display_name": "Python 3",
   "language": "python",
   "name": "python3"
  },
  "language_info": {
   "codemirror_mode": {
    "name": "ipython",
    "version": 3
   },
   "file_extension": ".py",
   "mimetype": "text/x-python",
   "name": "python",
   "nbconvert_exporter": "python",
   "pygments_lexer": "ipython3",
   "version": "3.8.5"
  }
 },
 "nbformat": 4,
 "nbformat_minor": 4
}
